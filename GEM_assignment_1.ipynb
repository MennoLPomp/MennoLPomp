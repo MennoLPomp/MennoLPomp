{
  "nbformat": 4,
  "nbformat_minor": 0,
  "metadata": {
    "colab": {
      "name": "GEM_assignment_1.ipynb",
      "provenance": [],
      "collapsed_sections": [],
      "include_colab_link": true
    },
    "kernelspec": {
      "display_name": "Python 3",
      "name": "python3"
    },
    "language_info": {
      "name": "python"
    }
  },
  "cells": [
    {
      "cell_type": "markdown",
      "metadata": {
        "id": "view-in-github",
        "colab_type": "text"
      },
      "source": [
        "<a href=\"https://colab.research.google.com/github/MennoLPomp/MennoLPomp/blob/main/GEM_assignment_1.ipynb\" target=\"_parent\"><img src=\"https://colab.research.google.com/assets/colab-badge.svg\" alt=\"Open In Colab\"/></a>"
      ]
    },
    {
      "cell_type": "code",
      "metadata": {
        "id": "jMcNh1mIl6-U"
      },
      "source": [
        "import pandas as pd\n",
        "import numpy as np\n",
        "import matplotlib as plt\n",
        "from google.colab import files\n",
        "from scipy.io import loadmat\n",
        "import matplotlib.pyplot as plt\n",
        "\n",
        "import networkx as nx"
      ],
      "execution_count": null,
      "outputs": []
    },
    {
      "cell_type": "code",
      "metadata": {
        "id": "h_QPsa115e_t"
      },
      "source": [
        ""
      ],
      "execution_count": null,
      "outputs": []
    },
    {
      "cell_type": "code",
      "metadata": {
        "colab": {
          "resources": {
            "http://localhost:8080/nbextensions/google.colab/files.js": {
              "data": "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",
              "ok": true,
              "headers": [
                [
                  "content-type",
                  "application/javascript"
                ]
              ],
              "status": 200,
              "status_text": ""
            }
          },
          "base_uri": "https://localhost:8080/",
          "height": 72
        },
        "id": "XxcpNNSLlVT6",
        "outputId": "ea092257-5e62-4796-db6e-17b54078113e"
      },
      "source": [
        "files.upload(); # uppload K9.mat here"
      ],
      "execution_count": null,
      "outputs": [
        {
          "output_type": "display_data",
          "data": {
            "text/html": [
              "\n",
              "     <input type=\"file\" id=\"files-1789efa7-719b-4de0-ac32-ae519e3c5296\" name=\"files[]\" multiple disabled\n",
              "        style=\"border:none\" />\n",
              "     <output id=\"result-1789efa7-719b-4de0-ac32-ae519e3c5296\">\n",
              "      Upload widget is only available when the cell has been executed in the\n",
              "      current browser session. Please rerun this cell to enable.\n",
              "      </output>\n",
              "      <script src=\"/nbextensions/google.colab/files.js\"></script> "
            ],
            "text/plain": [
              "<IPython.core.display.HTML object>"
            ]
          },
          "metadata": {}
        },
        {
          "output_type": "stream",
          "name": "stdout",
          "text": [
            "Saving K9.mat to K9.mat\n"
          ]
        }
      ]
    },
    {
      "cell_type": "code",
      "metadata": {
        "id": "RQjUAjREl-5c"
      },
      "source": [
        "\n",
        "A = loadmat('K9.mat')['K7'].T - 1 # start patient count from 0\n",
        "#list(enumerate(A[0]))\n",
        "#len(A)\n",
        "#A[0] \n",
        "#len(A)\n",
        "#list(enumerate(A[0])) #first choices"
      ],
      "execution_count": null,
      "outputs": []
    },
    {
      "cell_type": "code",
      "metadata": {
        "id": "hlIkcm-6hvEF"
      },
      "source": [
        "# if cycle_length <= 3 available:\n",
        "    # take small cycle\n",
        "\n",
        "\n",
        "# if all cycle_lengt_3 > 3:\n",
        "    # start cycle with player with highest priority\n",
        "    # select omega chain with ending player on highest priority of ending in cycle\n",
        "    # if multiple chains according to (e)"
      ],
      "execution_count": null,
      "outputs": []
    },
    {
      "cell_type": "code",
      "metadata": {
        "id": "jWOqYhkLsMMc"
      },
      "source": [
        "def TTCC(A):\n",
        "    N = len(A)\n",
        "\n",
        "    # Nodes 0 - (N - 2) represent patient 1 ... (N - 1),\n",
        "    # node N - 1 represents w.\n",
        "    w = N - 1\n",
        "    G = nx.DiGraph(directed=True)\n",
        "    G.add_nodes_from(range(N))\n",
        "\n",
        "    # patient 1 points to 56, patient 2 points to 6 etc.\n",
        "    G.add_edges_from(list(enumerate(A[0])))\n",
        "\n",
        "    matching = dict() # final matching to be returned\n",
        "    # passive matching, necessary for reconstruction graph\n",
        "    passive_matching = dict()\n",
        "    # kidneys yet unassigned, note that this set need not be equal\n",
        "    # to the set of remaining players. The first player in a w-chain\n",
        "    # is not a remaining player anymore but his/her kidney need not be\n",
        "    # assigned yet. (always includes w)\n",
        "    unassigned = set(range(N))\n",
        "    players = set(range(N-1))\n",
        "\n",
        "\n",
        "\n",
        "    while True:\n",
        "\n",
        "        # --- CYCLE LOOP ---\n",
        "        while True:\n",
        "            # There exists a function to search for a single cycle\n",
        "            # in networkx, however it raises an exception when no cycle foundd\n",
        "            # and I do not whish for a try/catch block in 'production' code.\n",
        "            cycles = list(nx.simple_cycles(G))\n",
        "            # no more cycles found => go to w-chain step\n",
        "            if len(cycles) == 0:\n",
        "                break\n",
        "\n",
        "            cycle = cycles[0]\n",
        "            M = len(cycle)\n",
        "            for j in range(M):\n",
        "                matching[cycle[j]] = cycle[(j+1) % M]\n",
        "                if cycle[j] in unassigned:\n",
        "                    unassigned.remove(cycle[j])\n",
        "\n",
        "            # reconstruct graph\n",
        "            remaining_players = players.difference(matching.keys())\n",
        "            G = nx.create_empty_copy(G)\n",
        "            # add passive player's assignments\n",
        "            G.add_edges_from(passive_matching.items())\n",
        "            for player in remaining_players:\n",
        "                for preference in A[:, player]:\n",
        "                    if preference in unassigned:\n",
        "                        G.add_edge(player, preference)\n",
        "                        break\n",
        "\n",
        "            if len(matching) == N - 1:\n",
        "                break\n",
        "\n",
        "        # check if cycle loop breaks because of no more cycles or matching finished\n",
        "        if len(matching) == N - 1:\n",
        "            break\n",
        "        # --- w-chain part ---\n",
        "        # add virtual edges from w to all players such that w-chains become cycle\n",
        "        G.add_edges_from([(w, x) for x in G.nodes])\n",
        "\n",
        "        chains = []\n",
        "        for chain in nx.simple_cycles(G):\n",
        "            # check if chain is novel, i.e. we aren't stuck in an infinite loop\n",
        "            if len(set(chain).difference(matching.keys()).difference({w})) > 0:\n",
        "                chains.append(chain)\n",
        "\n",
        "        # only select chains of max length (e)\n",
        "        M = len(max(chains, key=len))\n",
        "        max_chains = []\n",
        "        for chain in chains:\n",
        "            if len(chain) == M:\n",
        "                max_chains.append(chain)\n",
        "\n",
        "        # priority over remaining players\n",
        "        priority = sorted(list(players.difference(matching.keys())))\n",
        "\n",
        "        for p in priority:\n",
        "            for max_chain in max_chains:\n",
        "                if p in max_chain:\n",
        "                    for j in range(M):\n",
        "                        if max_chain[j] == w:\n",
        "                            continue\n",
        "                        matching[max_chain[j]] = max_chain[(j+1) % M]\n",
        "                        passive_matching[max_chain[j]] = max_chain[(j+1) % M]\n",
        "                        # why is this here?\n",
        "                        if max_chain[(j+1) % M] in unassigned and max_chain[(j+1) % M]  != w:\n",
        "                            unassigned.remove(max_chain[(j+1) % M])\n",
        "                        # matching rule (e) specifies to make players passive, i.e.\n",
        "                        # do not remove\n",
        "                    break\n",
        "            else: # code to break out of a nested loop\n",
        "                continue\n",
        "            break\n",
        "\n",
        "        # reconstruct graph, TODO: make into function to avoid repetition\n",
        "        remaining_players = players.difference(matching.keys())\n",
        "        G = nx.create_empty_copy(G) # also removes virtual edges\n",
        "        # add passive player's assignments\n",
        "        G.add_edges_from(passive_matching.items())\n",
        "        for player in remaining_players:\n",
        "            for preference in A[:, player]:\n",
        "                if preference in unassigned:\n",
        "                    G.add_edge(player, preference)\n",
        "                    break\n",
        "\n",
        "        if len(matching) == N - 1:\n",
        "            break\n",
        "\n",
        "    return matching"
      ],
      "execution_count": null,
      "outputs": []
    },
    {
      "cell_type": "code",
      "metadata": {
        "id": "R2qNDpC6jK72",
        "colab": {
          "base_uri": "https://localhost:8080/"
        },
        "outputId": "c9ad2211-4439-42a4-87c3-ea95c3d3f303"
      },
      "source": [
        "matching = TTCC(A)"
      ],
      "execution_count": null,
      "outputs": [
        {
          "output_type": "stream",
          "name": "stdout",
          "text": [
            "[58]\n",
            "[64, 105]\n",
            "[97, 6, 100, 16, 114, 52, 111, 84, 47, 12, 51, 26]\n",
            "[96, 89, 14, 71, 83, 53, 67, 94, 36, 61, 110, 77, 107, 2]\n",
            "[102, 8, 13, 44, 31, 93]\n",
            "[32, 63, 55, 33, 117, 106, 19, 49]\n",
            "[85, 38]\n",
            "[3, 9, 76, 57, 62, 39, 15, 86, 115]\n",
            "[81, 7, 29, 37]\n",
            "[99, 28, 17, 23, 20, 27, 69, 74, 112, 45, 50, 104, 21, 78, 24]\n",
            "[72, 30]\n",
            "[34, 103, 108]\n"
          ]
        }
      ]
    },
    {
      "cell_type": "code",
      "metadata": {
        "colab": {
          "base_uri": "https://localhost:8080/"
        },
        "id": "fwR0PLoEyTGK",
        "outputId": "bd03ed93-e158-4c53-dda7-81b3c2ae8800"
      },
      "source": [
        "A[:, 0].shape"
      ],
      "execution_count": null,
      "outputs": [
        {
          "output_type": "execute_result",
          "data": {
            "text/plain": [
              "(120,)"
            ]
          },
          "metadata": {},
          "execution_count": 169
        }
      ]
    },
    {
      "cell_type": "code",
      "metadata": {
        "colab": {
          "base_uri": "https://localhost:8080/",
          "height": 455
        },
        "id": "ojeulo6CoEg-",
        "outputId": "9f71dd99-e59f-4dab-bf7c-94d33b4c69a8"
      },
      "source": [
        "import pandas as pd\n",
        "df = pd.DataFrame(np.array(sorted(matching.items())) + 1, columns=['patient', 'kidney']).set_index('patient')\n",
        "df"
      ],
      "execution_count": null,
      "outputs": [
        {
          "output_type": "execute_result",
          "data": {
            "text/html": [
              "<div>\n",
              "<style scoped>\n",
              "    .dataframe tbody tr th:only-of-type {\n",
              "        vertical-align: middle;\n",
              "    }\n",
              "\n",
              "    .dataframe tbody tr th {\n",
              "        vertical-align: top;\n",
              "    }\n",
              "\n",
              "    .dataframe thead th {\n",
              "        text-align: right;\n",
              "    }\n",
              "</style>\n",
              "<table border=\"1\" class=\"dataframe\">\n",
              "  <thead>\n",
              "    <tr style=\"text-align: right;\">\n",
              "      <th></th>\n",
              "      <th>kidney</th>\n",
              "    </tr>\n",
              "    <tr>\n",
              "      <th>patient</th>\n",
              "      <th></th>\n",
              "    </tr>\n",
              "  </thead>\n",
              "  <tbody>\n",
              "    <tr>\n",
              "      <th>1</th>\n",
              "      <td>6</td>\n",
              "    </tr>\n",
              "    <tr>\n",
              "      <th>2</th>\n",
              "      <td>23</td>\n",
              "    </tr>\n",
              "    <tr>\n",
              "      <th>3</th>\n",
              "      <td>97</td>\n",
              "    </tr>\n",
              "    <tr>\n",
              "      <th>4</th>\n",
              "      <td>10</td>\n",
              "    </tr>\n",
              "    <tr>\n",
              "      <th>5</th>\n",
              "      <td>96</td>\n",
              "    </tr>\n",
              "    <tr>\n",
              "      <th>...</th>\n",
              "      <td>...</td>\n",
              "    </tr>\n",
              "    <tr>\n",
              "      <th>115</th>\n",
              "      <td>53</td>\n",
              "    </tr>\n",
              "    <tr>\n",
              "      <th>116</th>\n",
              "      <td>4</td>\n",
              "    </tr>\n",
              "    <tr>\n",
              "      <th>117</th>\n",
              "      <td>92</td>\n",
              "    </tr>\n",
              "    <tr>\n",
              "      <th>118</th>\n",
              "      <td>107</td>\n",
              "    </tr>\n",
              "    <tr>\n",
              "      <th>119</th>\n",
              "      <td>55</td>\n",
              "    </tr>\n",
              "  </tbody>\n",
              "</table>\n",
              "<p>119 rows × 1 columns</p>\n",
              "</div>"
            ],
            "text/plain": [
              "         kidney\n",
              "patient        \n",
              "1             6\n",
              "2            23\n",
              "3            97\n",
              "4            10\n",
              "5            96\n",
              "...         ...\n",
              "115          53\n",
              "116           4\n",
              "117          92\n",
              "118         107\n",
              "119          55\n",
              "\n",
              "[119 rows x 1 columns]"
            ]
          },
          "metadata": {},
          "execution_count": 10
        }
      ]
    },
    {
      "cell_type": "code",
      "metadata": {
        "id": "3lPwItAIlia2"
      },
      "source": [
        "lol = None\n",
        "def TTCC(A):\n",
        "    global lol\n",
        "    N = len(A)\n",
        "\n",
        "    # Nodes 0 - (N - 2) represent patient 1 ... (N - 1),\n",
        "    # node N - 1 represents w.\n",
        "    w = N - 1\n",
        "    G = nx.DiGraph(directed=True)\n",
        "    G.add_nodes_from(range(N))\n",
        "\n",
        "    # patient 1 points to 56, patient 2 points to 6 etc.\n",
        "    G.add_edges_from(list(enumerate(A[0])))\n",
        "\n",
        "    matching = dict() # final matching to be returned\n",
        "    # passive matching, necessary for reconstruction graph\n",
        "    passive_matching = dict()\n",
        "    # kidneys yet unassigned, note that this set need not be equal\n",
        "    # to the set of remaining players. The first player in a w-chain\n",
        "    # is not a remaining player anymore but his/her kidney need not be\n",
        "    # assigned yet. (always includes w)\n",
        "    unassigned = set(range(N))\n",
        "    players = set(range(N-1))\n",
        "\n",
        "\n",
        "\n",
        "    while True:\n",
        "\n",
        "        # --- CYCLE LOOP ---\n",
        "        while True:\n",
        "\n",
        "            # There exists a function to search for a single cycle\n",
        "            # in networkx, however it raises an exception when no cycle foundd\n",
        "            # and I do not whish for a try/catch block in 'production' code.\n",
        "            cycles = list(nx.simple_cycles(G))\n",
        "            # no more cycles found => go to w-chain step\n",
        "            if len(cycles) == 0:\n",
        "                break\n",
        "\n",
        "            cycle = min(cycles, key=len)\n",
        "\n",
        "            if len(cycle) > 3:\n",
        "                # now we are in business of question (b)\n",
        "                #prefix_chain = beginning of omega chain\n",
        "\n",
        "                prefix_chains = []\n",
        "                for cycle in cycles:\n",
        "                    # seek player with highest priority (lowest number)\n",
        "                    # in the chosen cycle, start there\n",
        "                    cycle = np.array(cycle)\n",
        "                    # location of highest cycle player\n",
        "                    priority_loc = np.argmin(cycle)\n",
        "                    # make priority player starting point\n",
        "                    prefix_chain = list(np.roll(cycle, -priority_loc)) \n",
        "                    # 'cut' the cycle at the right point\n",
        "                    G.remove_edge(prefix_chain[-1], prefix_chain[0])\n",
        "\n",
        "                    M = len(prefix_chain)\n",
        "                    for j in range(M - 1):\n",
        "                        matching[prefix_chain[j]] = prefix_chain[j + 1]\n",
        "                        passive_matching[prefix_chain[j]] = prefix_chain[j + 1]\n",
        "                        # prefix_chain[0]'s kidney is not yet assigned\n",
        "                        if prefix_chain[j + 1] in unassigned.difference({w}):\n",
        "                            unassigned.remove(prefix_chain[j + 1])                        \n",
        "\n",
        "                    prefix_chains.append(prefix_chain)\n",
        "                        \n",
        "\n",
        "                # now there should not be any more cycles => DAG\n",
        "\n",
        "                for prefix_chain in prefix_chains:\n",
        "                    \n",
        "                    # reconstruct graph carefully\n",
        "                    remaining_players = players.difference(matching.keys())\n",
        "                    if True:\n",
        "                        for player in remaining_players:\n",
        "                            if G.out_degree(player) == 1:\n",
        "                                successor = list(G.successors(player))[0]\n",
        "                                if successor not in unassigned:\n",
        "                                    G.remove_edge(player, successor)\n",
        "                                    #for preference in A[:, player]:\n",
        "                                        #if preference in unassigned:\n",
        "                                           # code om te zoeken of dit tot een cycle leidt\n",
        "                                           # G.add_edge(player, preference)\n",
        "                                           # break\n",
        "\n",
        "\n",
        "\n",
        "                    # find all omega chains at this moment\n",
        "                    # add virtual edges from w to all players such that w-chains become cycle\n",
        "                    G.add_edges_from([(w, x) for x in G.nodes])\n",
        "                    chains = []\n",
        "                    for chain in nx.simple_cycles(G):\n",
        "\n",
        "                        # check if chain is novel, i.e. we aren't stuck in an infinite loop\n",
        "                        if len(set(chain).difference(matching.keys()).difference({w})) > 0:\n",
        "                            # locate w\n",
        "                            chain = np.array(chain) \n",
        "                            w_loc = int(np.where(chain == w)[0].squeeze())\n",
        "                            # make w ending point, solution: first make w_loc\n",
        "                            # starting point and then roll back once 'more'\n",
        "                            chain = np.roll(chain, -w_loc - 1)\n",
        "                            chains.append(chain)\n",
        "\n",
        "                    # player at the end of cut cycle\n",
        "                    loose_player = prefix_chain[-1]\n",
        "                    # loop over preference, connect highest preference available\n",
        "                    for preference in A[:, loose_player]:\n",
        "                        for chain in chains:\n",
        "                            # always terminates as there is the trivial w chain [w]\n",
        "                            if preference == chain[0]:\n",
        "                                # IMPLEMENT RULE (E)\n",
        "                                # we are in business to connect the chains!\n",
        "                                # connecting\n",
        "                                G.add_edge(loose_player, chain[0])\n",
        "                                suffix_chain = [loose_player, *chain]\n",
        "\n",
        "                                M = len(suffix_chain)\n",
        "                                for j in range(M-1):\n",
        "                                    matching[suffix_chain[j]] = suffix_chain[j + 1]\n",
        "                                    passive_matching[suffix_chain[j]] = suffix_chain[j + 1]\n",
        "                                    # suffix_chain[0]'s kidney is already assigned\n",
        "                                    if suffix_chain[j + 1] in unassigned.difference({w}):\n",
        "                                        unassigned.remove(suffix_chain[j + 1])\n",
        "                                break\n",
        "                        else:\n",
        "                            continue\n",
        "                        break\n",
        "                    # remove virtual edges\n",
        "                    G.remove_edges_from([(w, x) for x in G.nodes])\n",
        "\n",
        "\n",
        "            else:\n",
        "                M = len(cycle)\n",
        "                for j in range(M):\n",
        "                    matching[cycle[j]] = cycle[(j+1) % M]\n",
        "                    if cycle[j] in unassigned:\n",
        "                        unassigned.remove(cycle[j])\n",
        "\n",
        "            # reconstruct graph\n",
        "            remaining_players = players.difference(matching.keys())\n",
        "            G = nx.create_empty_copy(G)\n",
        "            # add passive player's assignments\n",
        "            G.add_edges_from(passive_matching.items())\n",
        "            for player in remaining_players:\n",
        "                for preference in A[:, player]:\n",
        "                    if preference in unassigned:\n",
        "                        G.add_edge(player, preference)\n",
        "                        break\n",
        "\n",
        "            if len(matching) == N - 1:\n",
        "                break\n",
        "\n",
        "        # check if cycle loop breaks because of no more cycles or matching finished\n",
        "        if len(matching) == N - 1:\n",
        "            break\n",
        "        # --- w-chain part ---\n",
        "        # add virtual edges from w to all players such that w-chains become cycle\n",
        "        G.add_edges_from([(w, x) for x in G.nodes])\n",
        "\n",
        "        chains = []\n",
        "        for chain in nx.simple_cycles(G):\n",
        "            # check if chain is novel, i.e. we aren't stuck in an infinite loop\n",
        "            if len(set(chain).difference(matching.keys()).difference({w})) > 0:\n",
        "                chains.append(chain)\n",
        "\n",
        "        # only select chains of max length (e)\n",
        "        M = len(max(chains, key=len))\n",
        "        max_chains = []\n",
        "        for chain in chains:\n",
        "            if len(chain) == M:\n",
        "                max_chains.append(chain)\n",
        "\n",
        "        # priority over remaining players\n",
        "        priority = sorted(list(players.difference(matching.keys())))\n",
        "\n",
        "        for p in priority:\n",
        "            for max_chain in max_chains:\n",
        "                if p in max_chain:\n",
        "                    for j in range(M):\n",
        "                        if max_chain[j] == w:\n",
        "                            continue\n",
        "                        matching[max_chain[j]] = max_chain[(j+1) % M]\n",
        "                        passive_matching[max_chain[j]] = max_chain[(j+1) % M]\n",
        "\n",
        "                        if max_chain[(j+1) % M] in unassigned and max_chain[(j+1) % M]  != w:\n",
        "                            unassigned.remove(max_chain[(j+1) % M])\n",
        "                        # matching rule (e) specifies to make players passive, i.e.\n",
        "                        # do not remove\n",
        "                    break\n",
        "            else: # code to break out of a nested loop\n",
        "                continue\n",
        "            break\n",
        "\n",
        "        # reconstruct graph, TODO: make into function to avoid repetition\n",
        "        remaining_players = players.difference(matching.keys())\n",
        "        G = nx.create_empty_copy(G) # also removes virtual edges\n",
        "        # add passive player's assignments\n",
        "        G.add_edges_from(passive_matching.items())\n",
        "        for player in remaining_players:\n",
        "            for preference in A[:, player]:\n",
        "                if preference in unassigned:\n",
        "                    G.add_edge(player, preference)\n",
        "                    break\n",
        "\n",
        "        if len(matching) == N - 1:\n",
        "            break\n",
        "\n",
        "    return matching"
      ],
      "execution_count": null,
      "outputs": []
    },
    {
      "cell_type": "code",
      "metadata": {
        "colab": {
          "base_uri": "https://localhost:8080/"
        },
        "id": "lV5enbzxlkxP",
        "outputId": "4f28b409-220a-4c21-bd2a-c6fa48d5ba79"
      },
      "source": [
        "matching = TTCC(A)\n",
        "np.unique(list(matching.values()), return_counts=True)"
      ],
      "execution_count": null,
      "outputs": [
        {
          "output_type": "execute_result",
          "data": {
            "text/plain": [
              "(array([  0,   1,   3,   5,   6,   7,   8,   9,  10,  11,  12,  13,  14,\n",
              "         15,  16,  17,  18,  19,  20,  21,  22,  23,  24,  25,  26,  28,\n",
              "         29,  30,  31,  32,  33,  34,  35,  36,  37,  38,  39,  42,  43,\n",
              "         44,  45,  46,  47,  49,  50,  51,  52,  53,  54,  55,  56,  57,\n",
              "         58,  59,  60,  61,  62,  63,  64,  65,  66,  67,  68,  69,  70,\n",
              "         71,  72,  73,  74,  76,  77,  78,  79,  80,  81,  82,  83,  84,\n",
              "         85,  86,  87,  88,  89,  90,  91,  92,  93,  94,  95,  96,  97,\n",
              "         98,  99, 100, 101, 102, 104, 105, 106, 107, 109, 110, 111, 112,\n",
              "        113, 114, 115, 116, 117, 118, 119]),\n",
              " array([1, 1, 1, 1, 1, 1, 1, 1, 1, 1, 1, 1, 1, 1, 1, 1, 1, 1, 1, 1, 1, 1,\n",
              "        1, 1, 1, 1, 1, 1, 1, 1, 1, 1, 1, 1, 1, 1, 1, 1, 1, 1, 1, 1, 1, 1,\n",
              "        1, 1, 1, 1, 1, 1, 1, 1, 1, 1, 1, 1, 1, 1, 1, 1, 1, 1, 1, 1, 1, 1,\n",
              "        1, 1, 1, 1, 1, 1, 1, 1, 1, 1, 1, 1, 1, 1, 1, 1, 1, 1, 1, 1, 1, 1,\n",
              "        1, 1, 1, 1, 1, 1, 1, 1, 1, 1, 1, 1, 1, 1, 1, 1, 1, 1, 1, 1, 1, 1,\n",
              "        9]))"
            ]
          },
          "metadata": {},
          "execution_count": 209
        }
      ]
    },
    {
      "cell_type": "code",
      "metadata": {
        "colab": {
          "base_uri": "https://localhost:8080/"
        },
        "id": "fiMiTLpzN2dD",
        "outputId": "eb16e6ea-2dd5-4e05-f1ee-e04fb5f54754"
      },
      "source": [
        "len(matching)"
      ],
      "execution_count": null,
      "outputs": [
        {
          "output_type": "execute_result",
          "data": {
            "text/plain": [
              "119"
            ]
          },
          "metadata": {},
          "execution_count": 207
        }
      ]
    },
    {
      "cell_type": "code",
      "metadata": {
        "colab": {
          "base_uri": "https://localhost:8080/"
        },
        "id": "nwCwQeDTImdl",
        "outputId": "fe0c3dd6-83e0-4475-8b3c-9c2b2c67e264"
      },
      "source": [
        "np.hstack([[17, 50, 18, 90, 21, 78, 24, 99, 28], [5, 43, 73, 56]])"
      ],
      "execution_count": null,
      "outputs": [
        {
          "output_type": "execute_result",
          "data": {
            "text/plain": [
              "array([17, 50, 18, 90, 21, 78, 24, 99, 28,  5, 43, 73, 56])"
            ]
          },
          "metadata": {},
          "execution_count": 165
        }
      ]
    },
    {
      "cell_type": "code",
      "metadata": {
        "colab": {
          "base_uri": "https://localhost:8080/"
        },
        "id": "TePvwES_AA4p",
        "outputId": "0fb19c3b-dbe9-47f7-846a-f1fc32d9950a"
      },
      "source": [
        "len(np.unique(list(matching.keys())))"
      ],
      "execution_count": null,
      "outputs": [
        {
          "output_type": "execute_result",
          "data": {
            "text/plain": [
              "119"
            ]
          },
          "metadata": {},
          "execution_count": 137
        }
      ]
    },
    {
      "cell_type": "code",
      "metadata": {
        "colab": {
          "base_uri": "https://localhost:8080/"
        },
        "id": "m1UT9mvPAp0_",
        "outputId": "93a53bad-9251-49d7-9947-803aa0e4cd59"
      },
      "source": [
        "np.unique(list(matching.values()), return_counts=True)"
      ],
      "execution_count": null,
      "outputs": [
        {
          "output_type": "execute_result",
          "data": {
            "text/plain": [
              "(array([  0,   1,   3,   5,   6,   7,   8,   9,  10,  11,  12,  13,  14,\n",
              "         15,  16,  17,  18,  19,  20,  21,  22,  23,  24,  25,  26,  28,\n",
              "         29,  30,  31,  32,  33,  34,  35,  36,  37,  38,  39,  42,  43,\n",
              "         44,  45,  46,  47,  49,  50,  51,  52,  53,  54,  55,  56,  57,\n",
              "         58,  59,  60,  61,  62,  63,  64,  65,  66,  67,  68,  69,  70,\n",
              "         71,  72,  73,  74,  76,  77,  78,  79,  80,  81,  82,  83,  84,\n",
              "         85,  86,  87,  88,  89,  90,  91,  92,  93,  94,  95,  96,  97,\n",
              "         98,  99, 100, 101, 102, 104, 105, 106, 107, 109, 110, 111, 112,\n",
              "        113, 114, 115, 116, 117, 118, 119]),\n",
              " array([1, 1, 1, 1, 1, 1, 1, 1, 1, 1, 1, 1, 1, 1, 1, 1, 1, 1, 1, 1, 1, 1,\n",
              "        1, 1, 1, 1, 1, 1, 1, 1, 1, 1, 1, 1, 1, 1, 1, 1, 1, 1, 1, 1, 1, 1,\n",
              "        1, 1, 1, 1, 1, 1, 1, 1, 1, 1, 1, 1, 1, 1, 1, 1, 1, 1, 1, 1, 1, 1,\n",
              "        1, 1, 1, 1, 1, 1, 1, 1, 1, 1, 1, 1, 1, 1, 1, 1, 1, 1, 1, 1, 1, 1,\n",
              "        1, 1, 1, 1, 1, 1, 1, 1, 1, 1, 1, 1, 1, 1, 1, 1, 1, 1, 1, 1, 1, 1,\n",
              "        9]))"
            ]
          },
          "metadata": {},
          "execution_count": 205
        }
      ]
    },
    {
      "cell_type": "code",
      "metadata": {
        "colab": {
          "base_uri": "https://localhost:8080/"
        },
        "id": "_Kb-17mRFD3i",
        "outputId": "338007c3-0d19-4342-8237-397418a49401"
      },
      "source": [
        "matching"
      ],
      "execution_count": null,
      "outputs": [
        {
          "output_type": "execute_result",
          "data": {
            "text/plain": [
              "{0: 5,\n",
              " 1: 88,\n",
              " 2: 96,\n",
              " 3: 9,\n",
              " 4: 95,\n",
              " 5: 43,\n",
              " 6: 100,\n",
              " 7: 22,\n",
              " 8: 13,\n",
              " 9: 76,\n",
              " 10: 68,\n",
              " 11: 25,\n",
              " 12: 51,\n",
              " 13: 44,\n",
              " 14: 71,\n",
              " 15: 86,\n",
              " 16: 114,\n",
              " 17: 50,\n",
              " 18: 90,\n",
              " 19: 49,\n",
              " 20: 7,\n",
              " 21: 78,\n",
              " 22: 70,\n",
              " 23: 20,\n",
              " 24: 99,\n",
              " 25: 46,\n",
              " 26: 97,\n",
              " 27: 69,\n",
              " 28: 92,\n",
              " 29: 0,\n",
              " 30: 72,\n",
              " 31: 93,\n",
              " 32: 63,\n",
              " 33: 117,\n",
              " 34: 104,\n",
              " 35: 87,\n",
              " 36: 61,\n",
              " 37: 34,\n",
              " 38: 85,\n",
              " 39: 15,\n",
              " 40: 79,\n",
              " 41: 119,\n",
              " 42: 10,\n",
              " 43: 73,\n",
              " 44: 31,\n",
              " 45: 45,\n",
              " 46: 1,\n",
              " 47: 12,\n",
              " 48: 119,\n",
              " 49: 32,\n",
              " 50: 18,\n",
              " 51: 26,\n",
              " 52: 111,\n",
              " 53: 67,\n",
              " 54: 98,\n",
              " 55: 33,\n",
              " 56: 40,\n",
              " 57: 62,\n",
              " 58: 58,\n",
              " 59: 59,\n",
              " 60: 11,\n",
              " 61: 110,\n",
              " 62: 39,\n",
              " 63: 55,\n",
              " 64: 105,\n",
              " 65: 91,\n",
              " 66: 19,\n",
              " 67: 94,\n",
              " 68: 35,\n",
              " 69: 65,\n",
              " 70: 119,\n",
              " 71: 83,\n",
              " 72: 30,\n",
              " 73: 56,\n",
              " 74: 101,\n",
              " 75: 42,\n",
              " 76: 57,\n",
              " 77: 107,\n",
              " 78: 24,\n",
              " 79: 24,\n",
              " 80: 119,\n",
              " 81: 3,\n",
              " 82: 60,\n",
              " 83: 53,\n",
              " 84: 47,\n",
              " 85: 38,\n",
              " 86: 115,\n",
              " 87: 109,\n",
              " 88: 112,\n",
              " 89: 14,\n",
              " 90: 21,\n",
              " 91: 17,\n",
              " 92: 8,\n",
              " 93: 102,\n",
              " 94: 36,\n",
              " 95: 119,\n",
              " 96: 89,\n",
              " 97: 23,\n",
              " 98: 119,\n",
              " 99: 28,\n",
              " 100: 16,\n",
              " 101: 74,\n",
              " 102: 80,\n",
              " 103: 118,\n",
              " 104: 37,\n",
              " 105: 64,\n",
              " 106: 113,\n",
              " 107: 116,\n",
              " 108: 29,\n",
              " 109: 82,\n",
              " 110: 77,\n",
              " 111: 84,\n",
              " 112: 81,\n",
              " 113: 119,\n",
              " 114: 52,\n",
              " 115: 66,\n",
              " 116: 6,\n",
              " 117: 106,\n",
              " 118: 54}"
            ]
          },
          "metadata": {},
          "execution_count": 140
        }
      ]
    },
    {
      "cell_type": "code",
      "metadata": {
        "colab": {
          "base_uri": "https://localhost:8080/"
        },
        "id": "9TznZo1uE4Rb",
        "outputId": "e8a9f956-025d-4cee-b272-4ad023b5ef32"
      },
      "source": [
        "[x for x, y in matching.items() if y == 15]"
      ],
      "execution_count": null,
      "outputs": [
        {
          "output_type": "execute_result",
          "data": {
            "text/plain": [
              "[39]"
            ]
          },
          "metadata": {},
          "execution_count": 139
        }
      ]
    },
    {
      "cell_type": "code",
      "metadata": {
        "colab": {
          "base_uri": "https://localhost:8080/"
        },
        "id": "gKva8o05AsOC",
        "outputId": "30f44c76-c1c8-4e2d-a5d9-c03815d0bc49"
      },
      "source": [
        "sum(np.array(list(matching.values())) == 119)"
      ],
      "execution_count": null,
      "outputs": [
        {
          "output_type": "execute_result",
          "data": {
            "text/plain": [
              "7"
            ]
          },
          "metadata": {},
          "execution_count": 135
        }
      ]
    },
    {
      "cell_type": "code",
      "metadata": {
        "colab": {
          "base_uri": "https://localhost:8080/",
          "height": 455
        },
        "id": "UVolbRr7lkxP",
        "outputId": "9f71dd99-e59f-4dab-bf7c-94d33b4c69a8"
      },
      "source": [
        "import pandas as pd\n",
        "df = pd.DataFrame(np.array(sorted(matching.items())) + 1, columns=['patient', 'kidney']).set_index('patient')\n",
        "df"
      ],
      "execution_count": null,
      "outputs": [
        {
          "output_type": "execute_result",
          "data": {
            "text/html": [
              "<div>\n",
              "<style scoped>\n",
              "    .dataframe tbody tr th:only-of-type {\n",
              "        vertical-align: middle;\n",
              "    }\n",
              "\n",
              "    .dataframe tbody tr th {\n",
              "        vertical-align: top;\n",
              "    }\n",
              "\n",
              "    .dataframe thead th {\n",
              "        text-align: right;\n",
              "    }\n",
              "</style>\n",
              "<table border=\"1\" class=\"dataframe\">\n",
              "  <thead>\n",
              "    <tr style=\"text-align: right;\">\n",
              "      <th></th>\n",
              "      <th>kidney</th>\n",
              "    </tr>\n",
              "    <tr>\n",
              "      <th>patient</th>\n",
              "      <th></th>\n",
              "    </tr>\n",
              "  </thead>\n",
              "  <tbody>\n",
              "    <tr>\n",
              "      <th>1</th>\n",
              "      <td>6</td>\n",
              "    </tr>\n",
              "    <tr>\n",
              "      <th>2</th>\n",
              "      <td>23</td>\n",
              "    </tr>\n",
              "    <tr>\n",
              "      <th>3</th>\n",
              "      <td>97</td>\n",
              "    </tr>\n",
              "    <tr>\n",
              "      <th>4</th>\n",
              "      <td>10</td>\n",
              "    </tr>\n",
              "    <tr>\n",
              "      <th>5</th>\n",
              "      <td>96</td>\n",
              "    </tr>\n",
              "    <tr>\n",
              "      <th>...</th>\n",
              "      <td>...</td>\n",
              "    </tr>\n",
              "    <tr>\n",
              "      <th>115</th>\n",
              "      <td>53</td>\n",
              "    </tr>\n",
              "    <tr>\n",
              "      <th>116</th>\n",
              "      <td>4</td>\n",
              "    </tr>\n",
              "    <tr>\n",
              "      <th>117</th>\n",
              "      <td>92</td>\n",
              "    </tr>\n",
              "    <tr>\n",
              "      <th>118</th>\n",
              "      <td>107</td>\n",
              "    </tr>\n",
              "    <tr>\n",
              "      <th>119</th>\n",
              "      <td>55</td>\n",
              "    </tr>\n",
              "  </tbody>\n",
              "</table>\n",
              "<p>119 rows × 1 columns</p>\n",
              "</div>"
            ],
            "text/plain": [
              "         kidney\n",
              "patient        \n",
              "1             6\n",
              "2            23\n",
              "3            97\n",
              "4            10\n",
              "5            96\n",
              "...         ...\n",
              "115          53\n",
              "116           4\n",
              "117          92\n",
              "118         107\n",
              "119          55\n",
              "\n",
              "[119 rows x 1 columns]"
            ]
          },
          "metadata": {},
          "execution_count": 10
        }
      ]
    },
    {
      "cell_type": "markdown",
      "metadata": {
        "id": "9qPNnY7xmnW7"
      },
      "source": [
        "## b) Max 3 operations\n"
      ]
    },
    {
      "cell_type": "code",
      "metadata": {
        "id": "XS-FO7ulmt2F"
      },
      "source": [
        "def TTCC_mod(A):\n",
        "    N = len(A)\n",
        "\n",
        "    # Nodes 0 - (N - 2) represent patient 1 ... (N - 1),\n",
        "    # node N - 1 represents w.\n",
        "    w = N - 1\n",
        "    G = nx.DiGraph(directed=True)\n",
        "    G.add_nodes_from(range(N))\n",
        "\n",
        "    # patient 1 points to 56, patient 2 points to 6 etc.\n",
        "    G.add_edges_from(list(enumerate(A[0])))\n",
        "\n",
        "    matching = dict() # final matching to be returned\n",
        "    # passive matching, necessary for reconstruction graph\n",
        "    passive_matching = dict()\n",
        "    # kidneys yet unassigned, note that this set need not be equal\n",
        "    # to the set of remaining players. The first player in a w-chain\n",
        "    # is not a remaining player anymore but his/her kidney need not be\n",
        "    # assigned yet. (always includes w)\n",
        "    unassigned = set(range(N))\n",
        "    players = set(range(N-1))\n",
        "\n",
        "    while True:\n",
        "\n",
        "        # --- CYCLE LOOP ---\n",
        "        while True:\n",
        "            # There exists a function to search for a single cycle\n",
        "            # in networkx, however it raises an exception when no cycle foundd\n",
        "            # and I do not whish for a try/catch block in 'production' code.\n",
        "            cycles = list(nx.simple_cycles(G))\n",
        "            # no more cycles found => go to w-chain step\n",
        "            if len(cycles) == 0:\n",
        "                break\n",
        "            if all([len(cycle)>3 for cycle in cycles]):\n",
        "              #I reconstruct the graph, assigning w to lowest ranked player in every cycle\n",
        "                G = nx.create_empty_copy(G)\n",
        "                for cycle in cycles:\n",
        "                  for player in cycle:\n",
        "                    if player==max(cycle): #lowest priority player\n",
        "                      G.add_edge(player, 119)\n",
        "                    else:\n",
        "                      for preference in A[:, player]:\n",
        "                        if preference in unassigned:\n",
        "                            G.add_edge(player, preference)\n",
        "                            break\n",
        "\n",
        "                    \n",
        "                continue\n",
        "           \n",
        "\n",
        "\n",
        "\n",
        "\n",
        "                \n",
        "                \n",
        "        \n",
        "        \n",
        "                            \n",
        "                          \n",
        "\n",
        "            cycle = list(filter(lambda x: len(x)<=3, cycles))[0]  #choose the first cycle <=3\n",
        "            M = len(cycle)\n",
        "            for j in range(M):\n",
        "                matching[cycle[j]] = cycle[(j+1) % M]\n",
        "                if cycle[j] in unassigned:\n",
        "                    unassigned.remove(cycle[j])\n",
        "\n",
        "            # reconstruct graph\n",
        "            remaining_players = players.difference(matching.keys())\n",
        "            G = nx.create_empty_copy(G)\n",
        "            # add passive player's assignments\n",
        "            G.add_edges_from(passive_matching.items())\n",
        "            for player in remaining_players:\n",
        "                for preference in A[:, player]:\n",
        "                    if preference in unassigned:\n",
        "                        G.add_edge(player, preference)\n",
        "                        break\n",
        "\n",
        "            if len(matching) == N - 1:\n",
        "                break\n",
        "\n",
        "        # check if cycle loop breaks because of no more cycles or matching finished\n",
        "        if len(matching) == N - 1:\n",
        "            break\n",
        "        # --- w-chain part ---\n",
        "        # add virtual edges from w to all players such that w-chains become cycle\n",
        "        \n",
        "        G.add_edges_from([(w, x) for x in G.nodes])\n",
        "\n",
        "        chains = []\n",
        "        for chain in nx.simple_cycles(G):\n",
        "            # check if chain is novel, i.e. we aren't stuck in an infinite loop\n",
        "            if len(set(chain).difference(matching.keys()).difference({w})) > 0:\n",
        "                chains.append(chain)\n",
        "        \n",
        "          \n",
        "                                                       \n",
        "\n",
        "        # only select chains of max length (e)\n",
        "        M = len(max(chains, key=len))\n",
        "        max_chains = []\n",
        "        for chain in chains:\n",
        "            if len(chain) == M:\n",
        "                max_chains.append(chain)\n",
        "\n",
        "        # priority over remaining players\n",
        "        priority = sorted(list(players.difference(matching.keys())))\n",
        "\n",
        "        for p in priority:\n",
        "            for max_chain in max_chains:\n",
        "                if p in max_chain:\n",
        "                    for j in range(M):\n",
        "                        if max_chain[j] == w:\n",
        "                            continue\n",
        "                        matching[max_chain[j]] = max_chain[(j+1) % M]\n",
        "                        passive_matching[max_chain[j]] = max_chain[(j+1) % M]\n",
        "\n",
        "                        if max_chain[(j+1) % M] in unassigned and max_chain[(j+1) % M]  != w:\n",
        "                            unassigned.remove(max_chain[(j+1) % M])\n",
        "                        # matching rule (e) specifies to make players passive, i.e.\n",
        "                        # do not remove\n",
        "                    break\n",
        "            else: # code to break out of a nested loop\n",
        "                continue\n",
        "            break\n",
        "\n",
        "        # reconstruct graph, TODO: make into function to avoid repetition\n",
        "        remaining_players = players.difference(matching.keys())\n",
        "        G = nx.create_empty_copy(G) # also removes virtual edges\n",
        "        # add passive player's assignments\n",
        "        G.add_edges_from(passive_matching.items())\n",
        "        for player in remaining_players:\n",
        "            for preference in A[:, player]:\n",
        "                if preference in unassigned:\n",
        "                    G.add_edge(player, preference)\n",
        "                    break\n",
        "\n",
        "        if len(matching) == N - 1:\n",
        "            break\n",
        "\n",
        "    return matching"
      ],
      "execution_count": null,
      "outputs": []
    },
    {
      "cell_type": "code",
      "metadata": {
        "id": "0grRprvFdyBi",
        "colab": {
          "base_uri": "https://localhost:8080/"
        },
        "outputId": "25d92ca6-9bdd-4ab0-fcbc-447d8b32e8d3"
      },
      "source": [
        "matching=TTCC_mod(A)\n",
        "matching"
      ],
      "execution_count": null,
      "outputs": [
        {
          "output_type": "execute_result",
          "data": {
            "text/plain": [
              "{0: 5,\n",
              " 1: 22,\n",
              " 2: 96,\n",
              " 3: 33,\n",
              " 4: 54,\n",
              " 5: 108,\n",
              " 6: 100,\n",
              " 7: 29,\n",
              " 8: 36,\n",
              " 9: 76,\n",
              " 10: 68,\n",
              " 11: 30,\n",
              " 12: 51,\n",
              " 13: 103,\n",
              " 14: 71,\n",
              " 15: 86,\n",
              " 16: 114,\n",
              " 17: 82,\n",
              " 18: 18,\n",
              " 19: 49,\n",
              " 20: 7,\n",
              " 21: 78,\n",
              " 22: 70,\n",
              " 23: 20,\n",
              " 24: 99,\n",
              " 25: 46,\n",
              " 26: 97,\n",
              " 27: 69,\n",
              " 28: 17,\n",
              " 29: 0,\n",
              " 30: 19,\n",
              " 31: 93,\n",
              " 32: 88,\n",
              " 33: 44,\n",
              " 34: 95,\n",
              " 35: 87,\n",
              " 36: 61,\n",
              " 37: 81,\n",
              " 38: 85,\n",
              " 39: 15,\n",
              " 40: 117,\n",
              " 41: 119,\n",
              " 42: 10,\n",
              " 43: 73,\n",
              " 44: 31,\n",
              " 45: 77,\n",
              " 46: 1,\n",
              " 47: 12,\n",
              " 48: 79,\n",
              " 49: 32,\n",
              " 50: 104,\n",
              " 51: 26,\n",
              " 52: 111,\n",
              " 53: 67,\n",
              " 54: 98,\n",
              " 55: 91,\n",
              " 56: 35,\n",
              " 57: 118,\n",
              " 58: 58,\n",
              " 59: 116,\n",
              " 60: 63,\n",
              " 61: 52,\n",
              " 62: 39,\n",
              " 63: 55,\n",
              " 64: 105,\n",
              " 65: 4,\n",
              " 66: 34,\n",
              " 67: 94,\n",
              " 68: 23,\n",
              " 69: 74,\n",
              " 70: 119,\n",
              " 71: 83,\n",
              " 72: 13,\n",
              " 73: 80,\n",
              " 74: 101,\n",
              " 75: 42,\n",
              " 76: 57,\n",
              " 77: 107,\n",
              " 78: 24,\n",
              " 79: 56,\n",
              " 80: 119,\n",
              " 81: 62,\n",
              " 82: 60,\n",
              " 83: 53,\n",
              " 84: 47,\n",
              " 85: 38,\n",
              " 86: 115,\n",
              " 87: 109,\n",
              " 88: 112,\n",
              " 89: 14,\n",
              " 90: 90,\n",
              " 91: 43,\n",
              " 92: 72,\n",
              " 93: 102,\n",
              " 94: 25,\n",
              " 95: 119,\n",
              " 96: 89,\n",
              " 97: 6,\n",
              " 98: 119,\n",
              " 99: 28,\n",
              " 100: 16,\n",
              " 101: 11,\n",
              " 102: 8,\n",
              " 103: 50,\n",
              " 104: 37,\n",
              " 105: 64,\n",
              " 106: 65,\n",
              " 107: 2,\n",
              " 108: 119,\n",
              " 109: 75,\n",
              " 110: 21,\n",
              " 111: 84,\n",
              " 112: 45,\n",
              " 113: 119,\n",
              " 114: 119,\n",
              " 115: 3,\n",
              " 116: 40,\n",
              " 117: 106,\n",
              " 118: 27}"
            ]
          },
          "metadata": {},
          "execution_count": 16
        }
      ]
    },
    {
      "cell_type": "code",
      "metadata": {
        "id": "wdsVc-btrvHJ"
      },
      "source": [
        "for i in range(119):\n",
        "  if list(matching.values()).count(i)>1:\n",
        "    print(\"{} is a duplicate!\".format(i))\n",
        "    print()\n",
        "  continue\n"
      ],
      "execution_count": null,
      "outputs": []
    },
    {
      "cell_type": "code",
      "metadata": {
        "colab": {
          "base_uri": "https://localhost:8080/"
        },
        "id": "6a1-VEJ8qTfi",
        "outputId": "e9cc5d8f-38ba-49f9-b5de-807618e4d779"
      },
      "source": [
        "for x in range(10):\n",
        "  print(x)\n"
      ],
      "execution_count": null,
      "outputs": [
        {
          "output_type": "stream",
          "name": "stdout",
          "text": [
            "0\n",
            "1\n",
            "2\n",
            "3\n",
            "4\n",
            "5\n",
            "6\n",
            "7\n",
            "8\n",
            "9\n"
          ]
        }
      ]
    },
    {
      "cell_type": "code",
      "metadata": {
        "colab": {
          "base_uri": "https://localhost:8080/"
        },
        "id": "JsBk8nJPqZJG",
        "outputId": "c814b0eb-ad02-4532-c3e5-98cfbb55d625"
      },
      "source": [
        "list(enumerate(A[0]))"
      ],
      "execution_count": null,
      "outputs": [
        {
          "data": {
            "text/plain": [
              "[(0, 55),\n",
              " (1, 33),\n",
              " (2, 96),\n",
              " (3, 33),\n",
              " (4, 54),\n",
              " (5, 53),\n",
              " (6, 100),\n",
              " (7, 22),\n",
              " (8, 36),\n",
              " (9, 83),\n",
              " (10, 38),\n",
              " (11, 25),\n",
              " (12, 51),\n",
              " (13, 44),\n",
              " (14, 71),\n",
              " (15, 86),\n",
              " (16, 114),\n",
              " (17, 82),\n",
              " (18, 53),\n",
              " (19, 49),\n",
              " (20, 7),\n",
              " (21, 78),\n",
              " (22, 70),\n",
              " (23, 20),\n",
              " (24, 99),\n",
              " (25, 46),\n",
              " (26, 97),\n",
              " (27, 69),\n",
              " (28, 97),\n",
              " (29, 38),\n",
              " (30, 72),\n",
              " (31, 93),\n",
              " (32, 63),\n",
              " (33, 44),\n",
              " (34, 104),\n",
              " (35, 87),\n",
              " (36, 61),\n",
              " (37, 81),\n",
              " (38, 85),\n",
              " (39, 15),\n",
              " (40, 89),\n",
              " (41, 17),\n",
              " (42, 77),\n",
              " (43, 73),\n",
              " (44, 31),\n",
              " (45, 77),\n",
              " (46, 47),\n",
              " (47, 12),\n",
              " (48, 79),\n",
              " (49, 32),\n",
              " (50, 104),\n",
              " (51, 26),\n",
              " (52, 111),\n",
              " (53, 67),\n",
              " (54, 104),\n",
              " (55, 31),\n",
              " (56, 36),\n",
              " (57, 47),\n",
              " (58, 58),\n",
              " (59, 26),\n",
              " (60, 63),\n",
              " (61, 52),\n",
              " (62, 39),\n",
              " (63, 55),\n",
              " (64, 105),\n",
              " (65, 114),\n",
              " (66, 16),\n",
              " (67, 94),\n",
              " (68, 23),\n",
              " (69, 74),\n",
              " (70, 119),\n",
              " (71, 83),\n",
              " (72, 13),\n",
              " (73, 25),\n",
              " (74, 22),\n",
              " (75, 42),\n",
              " (76, 38),\n",
              " (77, 107),\n",
              " (78, 24),\n",
              " (79, 24),\n",
              " (80, 107),\n",
              " (81, 62),\n",
              " (82, 39),\n",
              " (83, 53),\n",
              " (84, 47),\n",
              " (85, 63),\n",
              " (86, 111),\n",
              " (87, 109),\n",
              " (88, 39),\n",
              " (89, 14),\n",
              " (90, 38),\n",
              " (91, 43),\n",
              " (92, 72),\n",
              " (93, 102),\n",
              " (94, 36),\n",
              " (95, 99),\n",
              " (96, 89),\n",
              " (97, 6),\n",
              " (98, 28),\n",
              " (99, 25),\n",
              " (100, 16),\n",
              " (101, 60),\n",
              " (102, 8),\n",
              " (103, 50),\n",
              " (104, 105),\n",
              " (105, 64),\n",
              " (106, 19),\n",
              " (107, 2),\n",
              " (108, 29),\n",
              " (109, 47),\n",
              " (110, 84),\n",
              " (111, 84),\n",
              " (112, 81),\n",
              " (113, 119),\n",
              " (114, 52),\n",
              " (115, 3),\n",
              " (116, 6),\n",
              " (117, 106),\n",
              " (118, 1)]"
            ]
          },
          "execution_count": 35,
          "metadata": {},
          "output_type": "execute_result"
        }
      ]
    },
    {
      "cell_type": "code",
      "metadata": {
        "colab": {
          "base_uri": "https://localhost:8080/"
        },
        "id": "mZzxMLuNs8NK",
        "outputId": "c5277f6a-5384-4019-d7e2-caf7716f3751"
      },
      "source": [
        "l=[[1,2], [1,2,3,4]]\n",
        "list(filter(lambda x: len(x)<3, l))[0]\n",
        "\n"
      ],
      "execution_count": null,
      "outputs": [
        {
          "data": {
            "text/plain": [
              "[1, 2]"
            ]
          },
          "execution_count": 20,
          "metadata": {},
          "output_type": "execute_result"
        }
      ]
    },
    {
      "cell_type": "code",
      "metadata": {
        "colab": {
          "base_uri": "https://localhost:8080/"
        },
        "id": "JvYPT9XsbZI7",
        "outputId": "acbb15a0-874f-4c6e-f854-db0edc2f6c22"
      },
      "source": [
        "len(l[0])<3"
      ],
      "execution_count": null,
      "outputs": [
        {
          "data": {
            "text/plain": [
              "True"
            ]
          },
          "execution_count": 14,
          "metadata": {},
          "output_type": "execute_result"
        }
      ]
    },
    {
      "cell_type": "code",
      "metadata": {
        "colab": {
          "base_uri": "https://localhost:8080/"
        },
        "id": "JLGe1-gkcYCa",
        "outputId": "89004ff4-4a97-4583-9a3a-7394e0c15ad5"
      },
      "source": [
        "l[1]"
      ],
      "execution_count": null,
      "outputs": [
        {
          "data": {
            "text/plain": [
              "[1, 2, 3, 4]"
            ]
          },
          "execution_count": 13,
          "metadata": {},
          "output_type": "execute_result"
        }
      ]
    },
    {
      "cell_type": "code",
      "metadata": {
        "colab": {
          "base_uri": "https://localhost:8080/"
        },
        "id": "d_nWfVkZcnQB",
        "outputId": "654e1aa6-c11e-4170-c8d8-8a2c58beb758"
      },
      "source": [
        "all([len(cycle)<4 for cycle in l])"
      ],
      "execution_count": null,
      "outputs": [
        {
          "data": {
            "text/plain": [
              "False"
            ]
          },
          "execution_count": 24,
          "metadata": {},
          "output_type": "execute_result"
        }
      ]
    },
    {
      "cell_type": "code",
      "metadata": {
        "colab": {
          "base_uri": "https://localhost:8080/",
          "height": 195
        },
        "id": "r3qcViAydZFs",
        "outputId": "61ef49ff-c4a8-4ad2-93c4-04c2c7b40a33"
      },
      "source": [
        "a=[[1],[2,3], [6,7,8]]\n",
        "b=[[1],[2,3]]\n",
        "#list(set(a) - set(b))\n",
        "set(a)"
      ],
      "execution_count": null,
      "outputs": [
        {
          "ename": "TypeError",
          "evalue": "ignored",
          "output_type": "error",
          "traceback": [
            "\u001b[0;31m---------------------------------------------------------------------------\u001b[0m",
            "\u001b[0;31mTypeError\u001b[0m                                 Traceback (most recent call last)",
            "\u001b[0;32m<ipython-input-42-7d70662f30da>\u001b[0m in \u001b[0;36m<module>\u001b[0;34m()\u001b[0m\n\u001b[1;32m      2\u001b[0m \u001b[0mb\u001b[0m\u001b[0;34m=\u001b[0m\u001b[0;34m[\u001b[0m\u001b[0;34m[\u001b[0m\u001b[0;36m1\u001b[0m\u001b[0;34m]\u001b[0m\u001b[0;34m,\u001b[0m\u001b[0;34m[\u001b[0m\u001b[0;36m2\u001b[0m\u001b[0;34m,\u001b[0m\u001b[0;36m3\u001b[0m\u001b[0;34m]\u001b[0m\u001b[0;34m]\u001b[0m\u001b[0;34m\u001b[0m\u001b[0;34m\u001b[0m\u001b[0m\n\u001b[1;32m      3\u001b[0m \u001b[0;31m#list(set(a) - set(b))\u001b[0m\u001b[0;34m\u001b[0m\u001b[0;34m\u001b[0m\u001b[0;34m\u001b[0m\u001b[0m\n\u001b[0;32m----> 4\u001b[0;31m \u001b[0mset\u001b[0m\u001b[0;34m(\u001b[0m\u001b[0ma\u001b[0m\u001b[0;34m)\u001b[0m\u001b[0;34m\u001b[0m\u001b[0;34m\u001b[0m\u001b[0m\n\u001b[0m",
            "\u001b[0;31mTypeError\u001b[0m: unhashable type: 'list'"
          ]
        }
      ]
    },
    {
      "cell_type": "code",
      "metadata": {
        "colab": {
          "base_uri": "https://localhost:8080/"
        },
        "id": "nl4WqIA0rKSE",
        "outputId": "1e6a5294-21dc-4f6a-fa2f-c604e21c94f3"
      },
      "source": [
        "[x for x in a if x not in b]"
      ],
      "execution_count": null,
      "outputs": [
        {
          "data": {
            "text/plain": [
              "[[6, 7, 8]]"
            ]
          },
          "execution_count": 55,
          "metadata": {},
          "output_type": "execute_result"
        }
      ]
    },
    {
      "cell_type": "code",
      "metadata": {
        "colab": {
          "base_uri": "https://localhost:8080/"
        },
        "id": "-JL8UqeCus2E",
        "outputId": "59f5370d-f5f9-4cdf-dacf-ba23f15376fb"
      },
      "source": [
        "np.where(A[:,1]==100)"
      ],
      "execution_count": null,
      "outputs": [
        {
          "data": {
            "text/plain": [
              "(array([84]),)"
            ]
          },
          "execution_count": 60,
          "metadata": {},
          "output_type": "execute_result"
        }
      ]
    },
    {
      "cell_type": "code",
      "metadata": {
        "colab": {
          "base_uri": "https://localhost:8080/"
        },
        "id": "y_4rcJYo9DGG",
        "outputId": "a3470893-d051-4929-e9d3-fe39aaf99ace"
      },
      "source": [
        "list(A[:,1]).index(100+1)"
      ],
      "execution_count": null,
      "outputs": [
        {
          "data": {
            "text/plain": [
              "11"
            ]
          },
          "execution_count": 64,
          "metadata": {},
          "output_type": "execute_result"
        }
      ]
    },
    {
      "cell_type": "code",
      "metadata": {
        "colab": {
          "base_uri": "https://localhost:8080/"
        },
        "id": "w8dHaRaM9ZhU",
        "outputId": "494862ef-d9ec-44d5-ec86-5d452ef6a620"
      },
      "source": [
        "A[1,2]"
      ],
      "execution_count": null,
      "outputs": [
        {
          "data": {
            "text/plain": [
              "17"
            ]
          },
          "execution_count": 63,
          "metadata": {},
          "output_type": "execute_result"
        }
      ]
    },
    {
      "cell_type": "code",
      "metadata": {
        "colab": {
          "base_uri": "https://localhost:8080/",
          "height": 162
        },
        "id": "FlOMv98Q9swu",
        "outputId": "62034099-723d-41cd-9f9a-304fa87e09e6"
      },
      "source": [
        "G.nodes()"
      ],
      "execution_count": null,
      "outputs": [
        {
          "ename": "NameError",
          "evalue": "ignored",
          "output_type": "error",
          "traceback": [
            "\u001b[0;31m---------------------------------------------------------------------------\u001b[0m",
            "\u001b[0;31mNameError\u001b[0m                                 Traceback (most recent call last)",
            "\u001b[0;32m<ipython-input-70-083f395b092f>\u001b[0m in \u001b[0;36m<module>\u001b[0;34m()\u001b[0m\n\u001b[0;32m----> 1\u001b[0;31m \u001b[0mG\u001b[0m\u001b[0;34m.\u001b[0m\u001b[0mnodes\u001b[0m\u001b[0;34m(\u001b[0m\u001b[0;34m)\u001b[0m\u001b[0;34m\u001b[0m\u001b[0;34m\u001b[0m\u001b[0m\n\u001b[0m",
            "\u001b[0;31mNameError\u001b[0m: name 'G' is not defined"
          ]
        }
      ]
    },
    {
      "cell_type": "code",
      "metadata": {
        "id": "Wm3rdQHc-u7Q",
        "colab": {
          "base_uri": "https://localhost:8080/",
          "height": 356
        },
        "outputId": "b0a828fe-f040-40d4-a62f-f73f07a1a3d7"
      },
      "source": [
        "#modifying again; dont assign w immediately; just assign the next best kidney to lowest priority agent in cycles when only too long cycles\n",
        "\n",
        "\n",
        "\n",
        "\n",
        "def TTCC_mod2(A):\n",
        "    N = len(A)\n",
        "\n",
        "    # Nodes 0 - (N - 2) represent patient 1 ... (N - 1),\n",
        "    # node N - 1 represents w.\n",
        "    w = N - 1\n",
        "    G = nx.DiGraph(directed=True)\n",
        "    G.add_nodes_from(range(N))\n",
        "\n",
        "    # patient 1 points to 56, patient 2 points to 6 etc.\n",
        "    G.add_edges_from(list(enumerate(A[0])))\n",
        "\n",
        "    matching = dict() # final matching to be returned\n",
        "    # passive matching, necessary for reconstruction graph\n",
        "    passive_matching = dict()\n",
        "    # kidneys yet unassigned, note that this set need not be equal\n",
        "    # to the set of remaining players. The first player in a w-chain\n",
        "    # is not a remaining player anymore but his/her kidney need not be\n",
        "    # assigned yet. (always includes w)\n",
        "    unassigned = set(range(N))\n",
        "    players = set(range(N-1))\n",
        "\n",
        "    while True:\n",
        "\n",
        "        # --- CYCLE LOOP ---\n",
        "        while True:\n",
        "            # There exists a function to search for a single cycle\n",
        "            # in networkx, however it raises an exception when no cycle foundd\n",
        "            # and I do not whish for a try/catch block in 'production' code.\n",
        "            cycles = list(nx.simple_cycles(G))\n",
        "            # no more cycles found => go to w-chain step\n",
        "            if len(cycles) == 0:\n",
        "                break\n",
        "            elif all([len(cycle)>3 for cycle in cycles]):\n",
        "              #I reconstruct the graph, assigning next best to lowest ranked player in every cycle\n",
        "                \n",
        "                \n",
        "                G = nx.create_empty_copy(G)\n",
        "                for cycle in cycles:\n",
        "                  for player in cycle:\n",
        "                    if player==max(cycle): #lowest priority player\n",
        "                      for preference in A[:, player]:\n",
        "                          if preference in unassigned:\n",
        "                              G.add_edge(player, A[list(A[:,player]).index(preference)+1,player]) #assign to next best kidney/weighting list\n",
        "                              break #go to next player\n",
        "                    else:\n",
        "                      for preference in A[:, player]:         #keep preference of other players\n",
        "                          if preference in unassigned:\n",
        "                              G.add_edge(player, preference)\n",
        "                              break\n",
        "\n",
        "                    \n",
        "                continue\n",
        "           \n",
        "\n",
        "                          \n",
        "\n",
        "            cycle = list(filter(lambda x: len(x)<=3, cycles))[0]  #choose the first cycle <=3\n",
        "            M = len(cycle)\n",
        "            for j in range(M):\n",
        "                matching[cycle[j]] = cycle[(j+1) % M]\n",
        "                if cycle[j] in unassigned:\n",
        "                    unassigned.remove(cycle[j])\n",
        "\n",
        "            # reconstruct graph\n",
        "            remaining_players = players.difference(matching.keys())\n",
        "            G = nx.create_empty_copy(G)\n",
        "            # add passive player's assignments\n",
        "            G.add_edges_from(passive_matching.items())\n",
        "            for player in remaining_players:\n",
        "                for preference in A[:, player]:\n",
        "                    if preference in unassigned:\n",
        "                        G.add_edge(player, preference)\n",
        "                        break\n",
        "\n",
        "            if len(matching) == N - 1:\n",
        "                break\n",
        "\n",
        "        # check if cycle loop breaks because of no more cycles or matching finished\n",
        "        if len(matching) == N - 1:\n",
        "            break\n",
        "        # --- w-chain part ---\n",
        "        # add virtual edges from w to all players such that w-chains become cycle\n",
        "        \n",
        "        G.add_edges_from([(w, x) for x in G.nodes])\n",
        "\n",
        "        chains = []\n",
        "        for chain in nx.simple_cycles(G):\n",
        "            # check if chain is novel, i.e. we aren't stuck in an infinite loop\n",
        "            if len(set(chain).difference(matching.keys()).difference({w})) > 0:\n",
        "                chains.append(chain)\n",
        "            \n",
        "          \n",
        "                                                       \n",
        "\n",
        "        # only select chains of max length (e)\n",
        "        M = len(max(chains, key=len))\n",
        "        max_chains = []\n",
        "        for chain in chains:\n",
        "            if len(chain) == M:\n",
        "                max_chains.append(chain)\n",
        "\n",
        "        # priority over remaining players\n",
        "        priority = sorted(list(players.difference(matching.keys())))\n",
        "\n",
        "        for p in priority:\n",
        "            for max_chain in max_chains:\n",
        "                if p in max_chain:\n",
        "                    for j in range(M):\n",
        "                        if max_chain[j] == w:\n",
        "                            continue\n",
        "                        matching[max_chain[j]] = max_chain[(j+1) % M]\n",
        "                        passive_matching[max_chain[j]] = max_chain[(j+1) % M]\n",
        "\n",
        "                        if max_chain[(j+1) % M] in unassigned and max_chain[(j+1) % M]  != w:\n",
        "                            unassigned.remove(max_chain[(j+1) % M])\n",
        "                        # matching rule (e) specifies to make players passive, i.e.\n",
        "                        # do not remove\n",
        "                    break\n",
        "            else: # code to break out of a nested loop\n",
        "                continue\n",
        "            break\n",
        "\n",
        "        # reconstruct graph, TODO: make into function to avoid repetition\n",
        "        remaining_players = players.difference(matching.keys())\n",
        "        G = nx.create_empty_copy(G) # also removes virtual edges\n",
        "        # add passive player's assignments\n",
        "        G.add_edges_from(passive_matching.items())\n",
        "        for player in remaining_players:\n",
        "            for preference in A[:, player]:\n",
        "                if preference in unassigned:\n",
        "                    G.add_edge(player, preference)\n",
        "                    break\n",
        "\n",
        "        if len(matching) == N - 1:\n",
        "            break\n",
        "\n",
        "    return matching\n",
        "\n",
        "\n",
        "matching=TTCC_mod2(A)\n",
        "\n",
        "dict(sorted(matching.items()))\n"
      ],
      "execution_count": null,
      "outputs": [
        {
          "output_type": "error",
          "ename": "ValueError",
          "evalue": "ignored",
          "traceback": [
            "\u001b[0;31m---------------------------------------------------------------------------\u001b[0m",
            "\u001b[0;31mValueError\u001b[0m                                Traceback (most recent call last)",
            "\u001b[0;32m<ipython-input-19-59893ac1b646>\u001b[0m in \u001b[0;36m<module>\u001b[0;34m()\u001b[0m\n\u001b[1;32m    144\u001b[0m \u001b[0;34m\u001b[0m\u001b[0m\n\u001b[1;32m    145\u001b[0m \u001b[0;34m\u001b[0m\u001b[0m\n\u001b[0;32m--> 146\u001b[0;31m \u001b[0mmatching\u001b[0m\u001b[0;34m=\u001b[0m\u001b[0mTTCC_mod2\u001b[0m\u001b[0;34m(\u001b[0m\u001b[0mA\u001b[0m\u001b[0;34m)\u001b[0m\u001b[0;34m\u001b[0m\u001b[0;34m\u001b[0m\u001b[0m\n\u001b[0m\u001b[1;32m    147\u001b[0m \u001b[0;34m\u001b[0m\u001b[0m\n\u001b[1;32m    148\u001b[0m \u001b[0mdict\u001b[0m\u001b[0;34m(\u001b[0m\u001b[0msorted\u001b[0m\u001b[0;34m(\u001b[0m\u001b[0mmatching\u001b[0m\u001b[0;34m.\u001b[0m\u001b[0mitems\u001b[0m\u001b[0;34m(\u001b[0m\u001b[0;34m)\u001b[0m\u001b[0;34m)\u001b[0m\u001b[0;34m)\u001b[0m\u001b[0;34m\u001b[0m\u001b[0;34m\u001b[0m\u001b[0m\n",
            "\u001b[0;32m<ipython-input-19-59893ac1b646>\u001b[0m in \u001b[0;36mTTCC_mod2\u001b[0;34m(A)\u001b[0m\n\u001b[1;32m    100\u001b[0m \u001b[0;34m\u001b[0m\u001b[0m\n\u001b[1;32m    101\u001b[0m         \u001b[0;31m# only select chains of max length (e)\u001b[0m\u001b[0;34m\u001b[0m\u001b[0;34m\u001b[0m\u001b[0;34m\u001b[0m\u001b[0m\n\u001b[0;32m--> 102\u001b[0;31m         \u001b[0mM\u001b[0m \u001b[0;34m=\u001b[0m \u001b[0mlen\u001b[0m\u001b[0;34m(\u001b[0m\u001b[0mmax\u001b[0m\u001b[0;34m(\u001b[0m\u001b[0mchains\u001b[0m\u001b[0;34m,\u001b[0m \u001b[0mkey\u001b[0m\u001b[0;34m=\u001b[0m\u001b[0mlen\u001b[0m\u001b[0;34m)\u001b[0m\u001b[0;34m)\u001b[0m\u001b[0;34m\u001b[0m\u001b[0;34m\u001b[0m\u001b[0m\n\u001b[0m\u001b[1;32m    103\u001b[0m         \u001b[0mmax_chains\u001b[0m \u001b[0;34m=\u001b[0m \u001b[0;34m[\u001b[0m\u001b[0;34m]\u001b[0m\u001b[0;34m\u001b[0m\u001b[0;34m\u001b[0m\u001b[0m\n\u001b[1;32m    104\u001b[0m         \u001b[0;32mfor\u001b[0m \u001b[0mchain\u001b[0m \u001b[0;32min\u001b[0m \u001b[0mchains\u001b[0m\u001b[0;34m:\u001b[0m\u001b[0;34m\u001b[0m\u001b[0;34m\u001b[0m\u001b[0m\n",
            "\u001b[0;31mValueError\u001b[0m: max() arg is an empty sequence"
          ]
        }
      ]
    },
    {
      "cell_type": "code",
      "metadata": {
        "id": "e8bjWSD42N3n",
        "colab": {
          "base_uri": "https://localhost:8080/",
          "height": 319
        },
        "outputId": "d4678781-eeda-4efd-bf0b-28437c8a4df1"
      },
      "source": [
        "B  = nx.DiGraph(directed=True)\n",
        "B.add_nodes_from([1,2,3,4,5,6,'w'])\n",
        "\n",
        "B.add_edges_from([(1,2), (2,3), (3,4), (4,'w'), (6,5), (5,3)])\n",
        "nx.draw(B, with_labels=True)\n",
        "#nx.draw_networkx_labels(A, pos={1:(1,2), 2:(2,3), 3:(3,4), 4:(4,7), 5:(6,5), 6:(5,3)},labels={1:'1', 2:'2', 3:'3',4:'4',5:'5',6:'6',7:'w'})\n"
      ],
      "execution_count": null,
      "outputs": [
        {
          "output_type": "display_data",
          "data": {
            "image/png": "[encoded data removed]",
            "text/plain": [
              "<Figure size 432x288 with 1 Axes>"
            ]
          },
          "metadata": {}
        }
      ]
    },
    {
      "cell_type": "code",
      "metadata": {
        "colab": {
          "base_uri": "https://localhost:8080/",
          "height": 319
        },
        "id": "5BHqnrwK1B9k",
        "outputId": "bc50f7fc-e28c-4491-bb81-68396ad1cfbd"
      },
      "source": [
        "\n",
        "A  = nx.DiGraph(directed=True)\n",
        "A.add_nodes_from([1,2,3,4,5,6,'w'])\n",
        "\n",
        "A.add_edges_from([(1,2), (2,3), (3,4), (4,'w'), (6,5), (5,2)])\n",
        "\n",
        "\n",
        "nx.draw(A, with_labels=True)\n",
        "\n",
        "\n",
        "\n",
        "\n",
        "plt.show()\n",
        "#nx.draw_networkx_labels(A, pos={1:(1,2), 2:(2,3), 3:(3,4), 4:(4,7), 5:(6,5), 6:(5,3)},labels={1:'1', 2:'2', 3:'3',4:'4',5:'5',6:'6',7:'w'})"
      ],
      "execution_count": null,
      "outputs": [
        {
          "output_type": "display_data",
          "data": {
            "image/png": "[encoded data removed]",
            "text/plain": [
              "<Figure size 432x288 with 1 Axes>"
            ]
          },
          "metadata": {}
        }
      ]
    },
    {
      "cell_type": "code",
      "metadata": {
        "colab": {
          "base_uri": "https://localhost:8080/",
          "height": 234
        },
        "id": "pI2PGWn77397",
        "outputId": "7350fed0-3a12-4273-b5a9-a006094cce99"
      },
      "source": [
        "nx.draw(A, with_labels=True)"
      ],
      "execution_count": null,
      "outputs": [
        {
          "output_type": "error",
          "ename": "NameError",
          "evalue": "ignored",
          "traceback": [
            "\u001b[0;31m---------------------------------------------------------------------------\u001b[0m",
            "\u001b[0;31mNameError\u001b[0m                                 Traceback (most recent call last)",
            "\u001b[0;32m<ipython-input-26-8c46fbc77350>\u001b[0m in \u001b[0;36m<module>\u001b[0;34m()\u001b[0m\n\u001b[1;32m      1\u001b[0m \u001b[0mG\u001b[0m \u001b[0;34m=\u001b[0m \u001b[0mnx\u001b[0m\u001b[0;34m.\u001b[0m\u001b[0mGraph\u001b[0m\u001b[0;34m(\u001b[0m\u001b[0;34m)\u001b[0m\u001b[0;34m\u001b[0m\u001b[0;34m\u001b[0m\u001b[0m\n\u001b[1;32m      2\u001b[0m \u001b[0;34m\u001b[0m\u001b[0m\n\u001b[0;32m----> 3\u001b[0;31m \u001b[0mG\u001b[0m\u001b[0;34m.\u001b[0m\u001b[0madd_nodes_from\u001b[0m\u001b[0;34m(\u001b[0m\u001b[0mpos\u001b[0m\u001b[0;34m.\u001b[0m\u001b[0mkeys\u001b[0m\u001b[0;34m(\u001b[0m\u001b[0;34m)\u001b[0m\u001b[0;34m)\u001b[0m\u001b[0;34m\u001b[0m\u001b[0;34m\u001b[0m\u001b[0m\n\u001b[0m\u001b[1;32m      4\u001b[0m \u001b[0;32mfor\u001b[0m \u001b[0mn\u001b[0m\u001b[0;34m,\u001b[0m \u001b[0mp\u001b[0m \u001b[0;32min\u001b[0m \u001b[0mpos\u001b[0m\u001b[0;34m.\u001b[0m\u001b[0mitems\u001b[0m\u001b[0;34m(\u001b[0m\u001b[0;34m)\u001b[0m\u001b[0;34m:\u001b[0m\u001b[0;34m\u001b[0m\u001b[0;34m\u001b[0m\u001b[0m\n\u001b[1;32m      5\u001b[0m    \u001b[0mG\u001b[0m\u001b[0;34m.\u001b[0m\u001b[0mnode\u001b[0m\u001b[0;34m[\u001b[0m\u001b[0mn\u001b[0m\u001b[0;34m]\u001b[0m\u001b[0;34m[\u001b[0m\u001b[0;34m'pos'\u001b[0m\u001b[0;34m]\u001b[0m \u001b[0;34m=\u001b[0m \u001b[0mp\u001b[0m\u001b[0;34m\u001b[0m\u001b[0;34m\u001b[0m\u001b[0m\n",
            "\u001b[0;31mNameError\u001b[0m: name 'pos' is not defined"
          ]
        }
      ]
    },
    {
      "cell_type": "code",
      "metadata": {
        "id": "JJQTnRyB9a5v",
        "colab": {
          "base_uri": "https://localhost:8080/",
          "height": 319
        },
        "outputId": "f4dd8b94-3cbc-4507-eb16-abc880a2e696"
      },
      "source": [
        "A  = nx.DiGraph(directed=True)\n",
        "A.add_nodes_from([1,2,3,4])\n",
        "\n",
        "A.add_edges_from([(1,2), (2,3), (3,4), (4,1)])\n",
        "\n",
        "\n",
        "nx.draw(A, with_labels=True)\n",
        "\n",
        "\n",
        "\n",
        "\n",
        "plt.show()"
      ],
      "execution_count": null,
      "outputs": [
        {
          "output_type": "display_data",
          "data": {
            "image/png": "[encoded data removed]",
            "text/plain": [
              "<Figure size 432x288 with 1 Axes>"
            ]
          },
          "metadata": {}
        }
      ]
    },
    {
      "cell_type": "code",
      "metadata": {
        "colab": {
          "base_uri": "https://localhost:8080/",
          "height": 319
        },
        "id": "wbfLggv9c2fb",
        "outputId": "9d3d01a7-8468-4d1c-a5db-7fe28335d545"
      },
      "source": [
        "A  = nx.DiGraph(directed=True)\n",
        "A.add_nodes_from([1,2,3,4])\n",
        "\n",
        "A.add_edges_from([(1,2), (2,3), (3,4), (4,2)])\n",
        "\n",
        "\n",
        "nx.draw(A, with_labels=True)\n",
        "\n",
        "\n",
        "\n",
        "\n",
        "plt.show()"
      ],
      "execution_count": null,
      "outputs": [
        {
          "output_type": "display_data",
          "data": {
            "image/png": "[encoded data removed]",
            "text/plain": [
              "<Figure size 432x288 with 1 Axes>"
            ]
          },
          "metadata": {}
        }
      ]
    },
    {
      "cell_type": "code",
      "metadata": {
        "colab": {
          "base_uri": "https://localhost:8080/",
          "height": 319
        },
        "id": "J2KdQl9rYjh5",
        "outputId": "c5d8ff74-f455-47c7-ef49-1ab476dfc99c"
      },
      "source": [
        "A  = nx.DiGraph(directed=True)\n",
        "A.add_nodes_from([1,2,3,4,5])\n",
        "\n",
        "A.add_edges_from([(1,2), (2,3), (3,4), (4,1),(5,2)])\n",
        "\n",
        "\n",
        "nx.draw(A, with_labels=True)\n",
        "\n",
        "\n",
        "\n",
        "\n",
        "plt.show()"
      ],
      "execution_count": null,
      "outputs": [
        {
          "output_type": "display_data",
          "data": {
            "image/png": "[encoded data removed]",
            "text/plain": [
              "<Figure size 432x288 with 1 Axes>"
            ]
          },
          "metadata": {}
        }
      ]
    },
    {
      "cell_type": "code",
      "metadata": {
        "colab": {
          "base_uri": "https://localhost:8080/",
          "height": 319
        },
        "id": "ucWNSyOGdtn7",
        "outputId": "588a0a38-15c3-4f1f-fbe1-7f319ec664cd"
      },
      "source": [
        "A  = nx.DiGraph(directed=True)\n",
        "A.add_nodes_from([1,2,3,4,5,6,7,8])\n",
        "\n",
        "A.add_edges_from([(1,2), (2,3), (3,4), (4,1),(5,6),(6,7),(7,8),(8,5)])\n",
        "\n",
        "\n",
        "nx.draw(A, with_labels=True)\n",
        "\n",
        "\n",
        "\n",
        "\n",
        "plt.show()"
      ],
      "execution_count": null,
      "outputs": [
        {
          "output_type": "display_data",
          "data": {
            "image/png": "[encoded data removed]",
            "text/plain": [
              "<Figure size 432x288 with 1 Axes>"
            ]
          },
          "metadata": {}
        }
      ]
    }
  ]
}